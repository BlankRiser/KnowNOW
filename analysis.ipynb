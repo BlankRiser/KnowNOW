{
 "cells": [
  {
   "cell_type": "markdown",
   "id": "f05e70f0",
   "metadata": {},
   "source": [
    "# Stock analysis\n",
    "\n",
    "- [WazirX API Docs](https://github.com/WazirX/wazirx-api)\n"
   ]
  },
  {
   "cell_type": "code",
   "execution_count": 1,
   "id": "43b249a2",
   "metadata": {},
   "outputs": [],
   "source": [
    "import os\n",
    "import json\n",
    "from datetime import datetime\n",
    "import requests as req\n",
    "import numpy as np\n",
    "import pandas as pd"
   ]
  },
  {
   "cell_type": "code",
   "execution_count": 2,
   "id": "22f1b20f",
   "metadata": {},
   "outputs": [],
   "source": [
    "TICKERS='https://api.wazirx.com/api/v2/tickers'\n",
    "TRADE_HISTORY='https://api.wazirx.com/api/v2/trades?market=' # uses a ticker here\n",
    "MARKET_DEPTH='https://api.wazirx.com/api/v2/depth?market='# uses a ticker here"
   ]
  },
  {
   "cell_type": "code",
   "execution_count": 3,
   "id": "9ef37830",
   "metadata": {},
   "outputs": [],
   "source": [
    "# Creating a ticker list\n",
    "res = req.get(TICKERS)\n",
    "tickers_list= [ key for key, items in res.json().items()]"
   ]
  },
  {
   "cell_type": "code",
   "execution_count": 4,
   "id": "2b5be758",
   "metadata": {},
   "outputs": [],
   "source": [
    "trade_history = req.get(TRADE_HISTORY+tickers_list[1])\n",
    "# trade_history.json()"
   ]
  },
  {
   "cell_type": "code",
   "execution_count": 5,
   "id": "c43d143b",
   "metadata": {},
   "outputs": [],
   "source": [
    "# Converting timestamp to date time\n",
    "market_depth = req.get(MARKET_DEPTH+tickers_list[1])\n",
    "market_depth = market_depth.json()\n",
    "market_depth['timestamp'] = datetime.fromtimestamp(market_depth['timestamp'])"
   ]
  },
  {
   "cell_type": "code",
   "execution_count": 11,
   "id": "b61c6c54",
   "metadata": {},
   "outputs": [
    {
     "name": "stdout",
     "output_type": "stream",
     "text": [
      "timestamp\n",
      "asks\n",
      "bids\n"
     ]
    }
   ],
   "source": [
    "for k,v in market_depth.items():\n",
    "    print(k)"
   ]
  },
  {
   "cell_type": "code",
   "execution_count": 9,
   "id": "46eee9b2",
   "metadata": {},
   "outputs": [
    {
     "ename": "KeyError",
     "evalue": "'open'",
     "output_type": "error",
     "traceback": [
      "\u001b[1;31m--------------------------------------------------\u001b[0m",
      "\u001b[1;31mKeyError\u001b[0m         Traceback (most recent call last)",
      "\u001b[1;32m<ipython-input-9-28cf794573ff>\u001b[0m in \u001b[0;36m<module>\u001b[1;34m\u001b[0m\n\u001b[0;32m      2\u001b[0m \u001b[1;33m\u001b[0m\u001b[0m\n\u001b[0;32m      3\u001b[0m fig = go.Figure(data=[go.Candlestick(x=market_depth['timestamp'],\n\u001b[1;32m----> 4\u001b[1;33m                 \u001b[0mopen\u001b[0m\u001b[1;33m=\u001b[0m\u001b[0mmarket_depth\u001b[0m\u001b[1;33m[\u001b[0m\u001b[1;34m'open'\u001b[0m\u001b[1;33m]\u001b[0m\u001b[1;33m,\u001b[0m\u001b[1;33m\u001b[0m\u001b[1;33m\u001b[0m\u001b[0m\n\u001b[0m\u001b[0;32m      5\u001b[0m                 \u001b[0mhigh\u001b[0m\u001b[1;33m=\u001b[0m\u001b[0mmarket_depth\u001b[0m\u001b[1;33m[\u001b[0m\u001b[1;34m'high'\u001b[0m\u001b[1;33m]\u001b[0m\u001b[1;33m,\u001b[0m\u001b[1;33m\u001b[0m\u001b[1;33m\u001b[0m\u001b[0m\n\u001b[0;32m      6\u001b[0m                 \u001b[0mlow\u001b[0m\u001b[1;33m=\u001b[0m\u001b[0mmarket_depth\u001b[0m\u001b[1;33m[\u001b[0m\u001b[1;34m'low'\u001b[0m\u001b[1;33m]\u001b[0m\u001b[1;33m,\u001b[0m\u001b[1;33m\u001b[0m\u001b[1;33m\u001b[0m\u001b[0m\n",
      "\u001b[1;31mKeyError\u001b[0m: 'open'"
     ]
    }
   ],
   "source": [
    "import plotly.graph_objects as go\n",
    "\n",
    "fig = go.Figure(data=[go.Candlestick(x=market_depth['timestamp'],\n",
    "                open=market_depth['open'],\n",
    "                high=market_depth['high'],\n",
    "                low=market_depth['low'],\n",
    "                close=market_depth['close'])])\n",
    "fig.show()"
   ]
  },
  {
   "cell_type": "code",
   "execution_count": null,
   "id": "35331674",
   "metadata": {},
   "outputs": [],
   "source": []
  },
  {
   "cell_type": "code",
   "execution_count": null,
   "id": "4101bc87",
   "metadata": {},
   "outputs": [],
   "source": []
  }
 ],
 "metadata": {
  "kernelspec": {
   "display_name": "Python 3",
   "language": "python",
   "name": "python3"
  },
  "language_info": {
   "codemirror_mode": {
    "name": "ipython",
    "version": 3
   },
   "file_extension": ".py",
   "mimetype": "text/x-python",
   "name": "python",
   "nbconvert_exporter": "python",
   "pygments_lexer": "ipython3",
   "version": "3.9.0"
  }
 },
 "nbformat": 4,
 "nbformat_minor": 5
}
